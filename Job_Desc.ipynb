{
 "cells": [
  {
   "cell_type": "code",
   "execution_count": 151,
   "metadata": {},
   "outputs": [],
   "source": [
    "import json\n",
    "Base_Skills=[] \n",
    "with open('jobs.json' , 'r' , encoding='UTF-8') as f :\n",
    "    data=json.load(f)\n",
    "    for job in data:\n",
    "        if (job['skills']):\n",
    "            List_skills=job['skills']\n",
    "            for skill in List_skills:\n",
    "                Base_Skills.append(skill)\n",
    "    newdata={\"SKILLS\": Base_Skills}\n",
    "    with open ('Skills_Data.json' , 'w' , encoding='UTF-8') as f:\n",
    "        json.dump(newdata , f , ensure_ascii= False )\n"
   ]
  },
  {
   "cell_type": "code",
   "execution_count": 152,
   "metadata": {},
   "outputs": [
    {
     "name": "stdout",
     "output_type": "stream",
     "text": [
      "Extracting data from Skills_Data.json\n",
      "Populating trie for class SKILLS (number: 2394)\n"
     ]
    }
   ],
   "source": [
    "import spacy, re\n",
    "from skweak import heuristics, gazetteers, generative, utils\n",
    "\n",
    "tries=gazetteers.extract_json_data('Skills_Data.json')\n"
   ]
  },
  {
   "cell_type": "code",
   "execution_count": 153,
   "metadata": {},
   "outputs": [],
   "source": [
    "import spacy\n",
    "nlp=spacy.load('en_core_web_md')\n",
    "gazetteer = gazetteers.GazetteerAnnotator(\"gazetteer\", tries)\n",
    "lf3=gazetteer = gazetteers.GazetteerAnnotator(\"gazetteer\", tries)\n"
   ]
  },
  {
   "cell_type": "code",
   "execution_count": 166,
   "metadata": {},
   "outputs": [],
   "source": [
    "nlp = spacy.load(\"en_core_web_md\")\n",
    "doc = nlp(\"Python , Java EE and AWS are my skills of coding\")\n",
    "\n",
    "# apply the labelling functions\n",
    "doc = lf3((doc))\n"
   ]
  },
  {
   "cell_type": "code",
   "execution_count": 168,
   "metadata": {},
   "outputs": [
    {
     "data": {
      "text/plain": [
       "{'gazetteer': [Python, Java EE, AWS]}"
      ]
     },
     "execution_count": 168,
     "metadata": {},
     "output_type": "execute_result"
    }
   ],
   "source": [
    "doc.spans"
   ]
  },
  {
   "cell_type": "code",
   "execution_count": 211,
   "metadata": {},
   "outputs": [
    {
     "data": {
      "text/plain": [
       "{'experience': [2+ years of experience.]}"
      ]
     },
     "execution_count": 211,
     "metadata": {},
     "output_type": "execute_result"
    }
   ],
   "source": [
    "doc=nlp('beautiful')\n",
    "def experience_detector (doc):\n",
    "    result=re.match(r'[0-9][+].*?[.]' , doc.text)\n",
    "    if(result):\n",
    "        start=result.start()\n",
    "        end=len(nlp(result.group(0)))\n",
    "        yield start , end ,  \"EXPERIENCE\"\n",
    "lf1 = heuristics.FunctionAnnotator(\"experience\", experience_detector)\n",
    "doc=lf1(nlp('2+ years of experience. i woeked with a lot of tools'))\n",
    "doc.spans"
   ]
  },
  {
   "cell_type": "code",
   "execution_count": 214,
   "metadata": {},
   "outputs": [
    {
     "data": {
      "text/plain": [
       "{'experience': [2+ years experience in the areas of machine learning, information retrieval, natural language processing or data mining.], 'gazetteer': [data, Python]}"
      ]
     },
     "execution_count": 214,
     "metadata": {},
     "output_type": "execute_result"
    }
   ],
   "source": [
    "doc=nlp('2+ years experience in the areas of machine learning, information retrieval, natural language processing or data mining. working with different tools , the most important  one is Python.')\n",
    "doc=lf3(lf1(doc))\n",
    "doc.spans"
   ]
  },
  {
   "cell_type": "code",
   "execution_count": 215,
   "metadata": {},
   "outputs": [
    {
     "name": "stdout",
     "output_type": "stream",
     "text": [
      "Starting iteration 1\n",
      "Finished E-step with 10 documents\n",
      "Starting iteration 2\n",
      "Finished E-step with 10 documents\n",
      "Starting iteration 3\n",
      "Finished E-step with 10 documents\n",
      "Starting iteration 4\n",
      "Finished E-step with 10 documents\n"
     ]
    },
    {
     "name": "stderr",
     "output_type": "stream",
     "text": [
      "         1        -216.1163             +nan\n",
      "         2        -135.7748         +80.3415\n",
      "         3        -127.8924          +7.8824\n",
      "         4        -127.3687          +0.5237\n"
     ]
    },
    {
     "data": {
      "text/html": [
       "<span class=\"tex2jax_ignore\"><div class=\"entities\" style=\"line-height: 2.5; direction: ltr\">\n",
       "<mark class=\"entity\" style=\"background: #ddd; padding: 0.45em 0.6em; margin: 0 0.25em; line-height: 1; border-radius: 0.35em;\">\n",
       "    2+ years experience in the areas of machine learning, information retrieval, natural language processing or data mining.\n",
       "    <span style=\"font-size: 0.8em; font-weight: bold; line-height: 1; border-radius: 0.35em; vertical-align: middle; margin-left: 0.5rem\">EXPERIENCE</span>\n",
       "</mark>\n",
       " working with different tools , the most important  one is \n",
       "<mark class=\"entity\" style=\"background: #ddd; padding: 0.45em 0.6em; margin: 0 0.25em; line-height: 1; border-radius: 0.35em;\">\n",
       "    Python\n",
       "    <span style=\"font-size: 0.8em; font-weight: bold; line-height: 1; border-radius: 0.35em; vertical-align: middle; margin-left: 0.5rem\">SKILLS</span>\n",
       "</mark>\n",
       ".</div></span>"
      ],
      "text/plain": [
       "<IPython.core.display.HTML object>"
      ]
     },
     "metadata": {},
     "output_type": "display_data"
    }
   ],
   "source": [
    "hmm = generative.HMM(\"hmm\", [\"EXPERIENCE\", \"SKILLS\"])\n",
    "hmm.fit([doc]*10)\n",
    "\n",
    "# once fitted, we simply apply the model to aggregate all functions\n",
    "doc = hmm(doc)\n",
    "\n",
    "# we can then visualise the final result (in Jupyter)\n",
    "utils.display_entities(doc, \"hmm\")"
   ]
  }
 ],
 "metadata": {
  "interpreter": {
   "hash": "bd9b9fa2e01573c04c615c80eb9deceb460a08e7f2fed43cdd24f3a908b6f3b1"
  },
  "kernelspec": {
   "display_name": "Python 3.8.4 64-bit",
   "language": "python",
   "name": "python3"
  },
  "language_info": {
   "codemirror_mode": {
    "name": "ipython",
    "version": 3
   },
   "file_extension": ".py",
   "mimetype": "text/x-python",
   "name": "python",
   "nbconvert_exporter": "python",
   "pygments_lexer": "ipython3",
   "version": "3.8.4"
  },
  "orig_nbformat": 4
 },
 "nbformat": 4,
 "nbformat_minor": 2
}
