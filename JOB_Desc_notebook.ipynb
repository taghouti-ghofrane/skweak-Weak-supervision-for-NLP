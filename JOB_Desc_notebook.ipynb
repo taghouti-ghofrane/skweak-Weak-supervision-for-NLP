{
 "cells": [
  {
   "cell_type": "code",
   "execution_count": 15,
   "metadata": {},
   "outputs": [],
   "source": [
    "#Create_Skills_data_from_job_data\n",
    "import json\n",
    "Base_Skills=[] \n",
    "with open('data/jobs.json' , 'r' , encoding='UTF-8') as f :\n",
    "    data=json.load(f)\n",
    "    for job in data:\n",
    "        if (job['skills']):\n",
    "            List_skills=job['skills']\n",
    "            for skill in List_skills:\n",
    "                Base_Skills.append(skill)\n",
    "    newdata={\"SKILLS\": Base_Skills}\n",
    "    with open ('data/Skills_Data.json' , 'w' , encoding='UTF-8') as f:\n",
    "        json.dump(newdata , f , ensure_ascii= False )\n"
   ]
  },
  {
   "cell_type": "code",
   "execution_count": 16,
   "metadata": {},
   "outputs": [
    {
     "name": "stdout",
     "output_type": "stream",
     "text": [
      "Extracting data from data/Skills_Data.json\n",
      "Populating trie for class SKILLS (number: 2394)\n"
     ]
    }
   ],
   "source": [
    "#Create_Skills_Function_from_dictionary\n",
    "import spacy, re\n",
    "from skweak import heuristics, gazetteers, generative, utils\n",
    "tries=gazetteers.extract_json_data('data/Skills_Data.json')\n",
    "nlp=spacy.load('en_core_web_md' , disable=['ner'])\n",
    "gazetteer = gazetteers.GazetteerAnnotator(\"SKILLS\", tries)\n",
    "lf3= gazetteers.GazetteerAnnotator(\"SKILLS\", tries)"
   ]
  },
  {
   "cell_type": "code",
   "execution_count": 19,
   "metadata": {},
   "outputs": [
    {
     "data": {
      "text/plain": [
       "{'experience': [2+ years, 3+ years]}"
      ]
     },
     "execution_count": 19,
     "metadata": {},
     "output_type": "execute_result"
    }
   ],
   "source": [
    "#Create_Function_Foe_Experience_Detection(Use Regex)\n",
    "def experience_detector (doc):\n",
    "    expression=r'[0-9][+] years'\n",
    "    for match in re.finditer(expression, doc.text):\n",
    "        start, end = match.span()\n",
    "        span = doc.char_span(start, end)\n",
    "        if(span):\n",
    "            yield span.start , span.end ,  \"EXPERIENCE\"\n",
    "lf1 = heuristics.FunctionAnnotator(\"experience\", experience_detector)\n",
    "doc=lf1(nlp(' 2+ years of experience. 3+ years i worked with a lot of tools'))\n",
    "doc.spans"
   ]
  },
  {
   "cell_type": "code",
   "execution_count": 21,
   "metadata": {},
   "outputs": [],
   "source": [
    "#Create Diploma_Function_with_Regex\n",
    "def Diploma_fun(doc):\n",
    "    key_words=[ \"phd\",\"Bachelor\", \"Masters\"  , \"High School\" , \"MS/Ph.D.\"  , \"BA\" , \"BS\"  ,\"College\" , \"Bachelors\" ]\n",
    "    for key in key_words:\n",
    "                for match in re.finditer(key , doc.text , re.IGNORECASE):\n",
    "                    start, end = match.span()\n",
    "                    span = doc.char_span(start, end)\n",
    "                    if(span):\n",
    "                        yield (span.start , span.end ,  \"DIPLOMA\")\n",
    "    \n",
    "lf4 = heuristics.FunctionAnnotator(\"Diploma\", Diploma_fun)"
   ]
  },
  {
   "cell_type": "code",
   "execution_count": 37,
   "metadata": {},
   "outputs": [],
   "source": [
    "#Create_Diploma_Major_Function_with_Regex\n",
    "def Diploma_major_fun(doc):  \n",
    "    key_words=['Computing Science','IA' ,'Mechanical Engineering', 'Electrical engineering' ,'Computer engineering' , \"computer science\"  , \"finance\" , \"accounting\" , \"economics\" , \"business administration\" , \"Math\" , \"Acoustics\" , \"Physics\" , \"Computer Networks\" , \"technical discipline\" , \"Business\" , \"CS/EE\" , \"Telecommunications\" , \"Material Science\" , \"Robotics\"]\n",
    "    for key in key_words:\n",
    "                for match in re.finditer(key , doc.text , re.IGNORECASE):\n",
    "                    start, end = match.span()\n",
    "                    span = doc.char_span(start, end)\n",
    "                    if(span):\n",
    "                        yield (span.start , span.end ,  \"DIPLOMA_MAJOR\")\n",
    "    \n",
    "lf2 = heuristics.FunctionAnnotator(\"Diploma_major\", Diploma_major_fun)"
   ]
  },
  {
   "cell_type": "code",
   "execution_count": null,
   "metadata": {},
   "outputs": [],
   "source": [
    "#create_corpus_annotated_to_train_the_model\n",
    "docs=[]\n",
    "with open('Corpus.txt' , 'r') as f :\n",
    "    data=f.readlines()\n",
    "    for text in data:\n",
    "        if (len(text) !=1):\n",
    "            newtext=str(text)\n",
    "            doc=nlp(newtext)\n",
    "            doc=lf1(lf2(lf3(lf4(doc))))\n",
    "            print(doc.spans)\n",
    "            docs.append(doc)\n",
    "\n"
   ]
  },
  {
   "cell_type": "code",
   "execution_count": 39,
   "metadata": {},
   "outputs": [],
   "source": [
    "from skweak import aggregation\n",
    "model = aggregation.HMM(\"hmm\", [\"DIPLOMA\", \"DIPLOMA_MAJOR\" , \"EXPERIENCE\" , \"SKILLS\"])"
   ]
  },
  {
   "cell_type": "code",
   "execution_count": null,
   "metadata": {},
   "outputs": [],
   "source": [
    "docs = model.fit_and_aggregate(docs)\n",
    "utils.display_entities(docs[16], \"hmm\", add_tooltip=True) "
   ]
  },
  {
   "cell_type": "code",
   "execution_count": 27,
   "metadata": {},
   "outputs": [
    {
     "name": "stdout",
     "output_type": "stream",
     "text": [
      "Write to reuters_small.spacy...done\n"
     ]
    }
   ],
   "source": [
    "for doc in docs:\n",
    "    doc.ents = doc.spans[\"hmm\"]\n",
    "utils.docbin_writer(docs, \"train.spacy\")"
   ]
  },
  {
   "cell_type": "code",
   "execution_count": null,
   "metadata": {},
   "outputs": [],
   "source": [
    "#Train_The_Model_with_Train_data_created_with_skweak(automatic_annotation)\n",
    "#577 itérations\n",
    "!python -m spacy train config.cfg --output ./output --paths.train train.spacy --paths.dev train.spacy"
   ]
  },
  {
   "cell_type": "markdown",
   "metadata": {},
   "source": [
    "Model _ Evaluation : \n",
    "UBIAI_MODEL VS Skweak_Model"
   ]
  },
  {
   "cell_type": "code",
   "execution_count": 178,
   "metadata": {},
   "outputs": [
    {
     "name": "stdout",
     "output_type": "stream",
     "text": [
      "ℹ Using CPU\n",
      "\u001b[1m\n",
      "================================== Results ==================================\u001b[0m\n",
      "\n",
      "TOK     100.00\n",
      "NER P   75.64 \n",
      "NER R   80.82 \n",
      "NER F   78.15 \n",
      "SPEED   3833  \n",
      "\n",
      "\u001b[1m\n",
      "=============================== NER (per type) ===============================\u001b[0m\n",
      "\n",
      "                     P        R        F\n",
      "EXPERIENCE      100.00   100.00   100.00\n",
      "SKILLS           67.24    73.58    70.27\n",
      "DIPLOMA         100.00   100.00   100.00\n",
      "DIPLOMA_MAJOR   100.00   100.00   100.00\n",
      "\n"
     ]
    }
   ],
   "source": [
    "!python -m spacy evaluate UBIAI-Model/model-best/ UBIAI_TEST.spacy"
   ]
  },
  {
   "cell_type": "code",
   "execution_count": 179,
   "metadata": {},
   "outputs": [
    {
     "name": "stdout",
     "output_type": "stream",
     "text": [
      "ℹ Using CPU\n",
      "\u001b[1m\n",
      "================================== Results ==================================\u001b[0m\n",
      "\n",
      "TOK     100.00\n",
      "NER P   57.89 \n",
      "NER R   30.14 \n",
      "NER F   39.64 \n",
      "SPEED   4362  \n",
      "\n",
      "\u001b[1m\n",
      "=============================== NER (per type) ===============================\u001b[0m\n",
      "\n",
      "                     P       R       F\n",
      "EXPERIENCE      100.00   80.00   88.89\n",
      "SKILLS           36.00   16.98   23.08\n",
      "DIPLOMA         100.00   33.33   50.00\n",
      "DIPLOMA_MAJOR   100.00   75.00   85.71\n",
      "\n"
     ]
    }
   ],
   "source": [
    "!python -m spacy evaluate output/model-best/ UBIAI_TEST.spacy"
   ]
  }
 ],
 "metadata": {
  "interpreter": {
   "hash": "bd9b9fa2e01573c04c615c80eb9deceb460a08e7f2fed43cdd24f3a908b6f3b1"
  },
  "kernelspec": {
   "display_name": "Python 3.8.4 64-bit",
   "language": "python",
   "name": "python3"
  },
  "language_info": {
   "codemirror_mode": {
    "name": "ipython",
    "version": 3
   },
   "file_extension": ".py",
   "mimetype": "text/x-python",
   "name": "python",
   "nbconvert_exporter": "python",
   "pygments_lexer": "ipython3",
   "version": "3.8.4"
  },
  "orig_nbformat": 4
 },
 "nbformat": 4,
 "nbformat_minor": 2
}
